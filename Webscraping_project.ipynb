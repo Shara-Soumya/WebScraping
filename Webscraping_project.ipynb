{
 "cells": [
  {
   "cell_type": "code",
   "execution_count": 1,
   "metadata": {},
   "outputs": [],
   "source": [
    "import requests\n",
    "url = \"https://www.naukri.com/data-science-jobs\"\n",
    "resp=requests.get(url)"
   ]
  },
  {
   "cell_type": "code",
   "execution_count": 2,
   "metadata": {},
   "outputs": [],
   "source": [
    "from bs4 import BeautifulSoup\n",
    "import pandas as pd"
   ]
  },
  {
   "cell_type": "code",
   "execution_count": 5,
   "metadata": {},
   "outputs": [],
   "source": [
    "import os\n",
    "os.chdir(\"../chrome_driver\")\n",
    "from selenium import webdriver\n",
    "browser2 = webdriver.Chrome()"
   ]
  },
  {
   "cell_type": "code",
   "execution_count": 6,
   "metadata": {},
   "outputs": [],
   "source": [
    "browser2.get(url)"
   ]
  },
  {
   "cell_type": "code",
   "execution_count": 7,
   "metadata": {},
   "outputs": [],
   "source": [
    "raw_html=browser2.page_source"
   ]
  },
  {
   "cell_type": "code",
   "execution_count": 8,
   "metadata": {},
   "outputs": [],
   "source": [
    "parsed_html=BeautifulSoup(raw_html,\"html.parser\")"
   ]
  },
  {
   "cell_type": "code",
   "execution_count": 9,
   "metadata": {},
   "outputs": [],
   "source": [
    "Naukri_dsjobs = pd.DataFrame(columns=(\"Job_id\",\"Company\",\"Experience\",\"Salary\",\"Location\",\"Job_link\",\"Skillset\",\"Posted\"))"
   ]
  },
  {
   "cell_type": "code",
   "execution_count": 10,
   "metadata": {},
   "outputs": [],
   "source": [
    "def get_data(parsed_html):\n",
    "    table = pd.DataFrame()\n",
    "    job_id = []\n",
    "    company_name=[]\n",
    "    Exp = []\n",
    "    Salary = []\n",
    "    Location = []\n",
    "    Link = []\n",
    "    Skillset = []\n",
    "    Posted = []\n",
    "    for row in parsed_html.find_all(\"article\",class_=\"jobTuple bgWhite br4 mb-8\"):\n",
    "        job_id.append(row[\"data-job-id\"])\n",
    "        company_name.append(row.find(\"div\",class_=\"mt-7 companyInfo subheading lh16\").a.get_text())\n",
    "        Link.append(row.find(\"div\",class_=\"mt-7 companyInfo subheading lh16\").a['href'])\n",
    "        try:\n",
    "            Exp.append(row.find(\"li\",class_=\"fleft grey-text br2 placeHolderLi experience\").get_text())\n",
    "        except:\n",
    "            Exp.append(\"No Data\")\n",
    "        try:\n",
    "            Salary.append(row.find(\"li\",class_=\"fleft grey-text br2 placeHolderLi salary\").get_text())\n",
    "        except:\n",
    "            Salary.append(\"No data\")\n",
    "        try:\n",
    "            Location.append(row.find(\"li\",class_=\"fleft grey-text br2 placeHolderLi location\").get_text())\n",
    "        except:\n",
    "            Location.append(\"No Data\")\n",
    "        try:\n",
    "            skills = row.find_all(\"li\",class_=\"fleft fs12 grey-text lh16 dot\")\n",
    "            Skillset.append((list(map(lambda x: x.text,skills))))\n",
    "        except:\n",
    "            Skillset.append(\"No Data\")\n",
    "        try:\n",
    "            Posted.append(row.find(\"div\",class_=\"jobTupleFooter mt-20\").span.get_text())\n",
    "        except:\n",
    "            Posted.append(\"No Data\")\n",
    "\n",
    "        table = pd.DataFrame({\"Job_id\":job_id,\"Company\":company_name,\"Experience\":Exp,\"Salary\":Salary,\"Location\":Location,\"Job_link\":Link,\"Skillset\":Skillset,\"Posted\":Posted})\n",
    "    return table"
   ]
  },
  {
   "cell_type": "code",
   "execution_count": 12,
   "metadata": {},
   "outputs": [
    {
     "name": "stderr",
     "output_type": "stream",
     "text": [
      "100%|████████████████████████████████████████████████████████████████████████████| 1000/1000 [5:14:59<00:00, 18.90s/it]\n"
     ]
    }
   ],
   "source": [
    "import time\n",
    "from tqdm import tqdm\n",
    "base_url = \"https://www.naukri.com/data-science-jobs-{}\"\n",
    "for page_num in tqdm(range(1,401)):\n",
    "    url=base_url.format(page_num)\n",
    "    browser1 = webdriver.Chrome()\n",
    "    browser1.get(url)\n",
    "    time.sleep(1)\n",
    "    raw_data=browser1.page_source\n",
    "    browser1.close()\n",
    "    html=BeautifulSoup(raw_data,\"html.parser\")\n",
    "    Naukri_dsjobs = Naukri_dsjobs.append(get_data(html),ignore_index = True)\n"
   ]
  },
  {
   "cell_type": "code",
   "execution_count": 13,
   "metadata": {},
   "outputs": [
    {
     "data": {
      "text/plain": [
       "(13357, 8)"
      ]
     },
     "execution_count": 13,
     "metadata": {},
     "output_type": "execute_result"
    }
   ],
   "source": [
    "Naukri_dsjobs.shape"
   ]
  },
  {
   "cell_type": "code",
   "execution_count": 14,
   "metadata": {},
   "outputs": [],
   "source": [
    "Naukri_dsjobs.to_csv('naukri.csv')"
   ]
  },
  {
   "cell_type": "code",
   "execution_count": 15,
   "metadata": {},
   "outputs": [
    {
     "data": {
      "text/plain": [
       "'E:\\\\soumya\\\\herovired\\\\webscrapngpython\\\\chrome_driver'"
      ]
     },
     "execution_count": 15,
     "metadata": {},
     "output_type": "execute_result"
    }
   ],
   "source": [
    "os.getcwd()"
   ]
  },
  {
   "cell_type": "code",
   "execution_count": null,
   "metadata": {},
   "outputs": [],
   "source": []
  }
 ],
 "metadata": {
  "kernelspec": {
   "display_name": "Python 3 (ipykernel)",
   "language": "python",
   "name": "python3"
  },
  "language_info": {
   "codemirror_mode": {
    "name": "ipython",
    "version": 3
   },
   "file_extension": ".py",
   "mimetype": "text/x-python",
   "name": "python",
   "nbconvert_exporter": "python",
   "pygments_lexer": "ipython3",
   "version": "3.9.7"
  }
 },
 "nbformat": 4,
 "nbformat_minor": 2
}
