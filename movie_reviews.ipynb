{
 "cells": [
  {
   "cell_type": "code",
   "execution_count": 6,
   "id": "c6203f1e",
   "metadata": {},
   "outputs": [
    {
     "name": "stdout",
     "output_type": "stream",
     "text": [
      "<Response [200]>\n"
     ]
    }
   ],
   "source": [
    "import requests\n",
    "url = \"https://www.imdb.com/search/title/?colors=color&countries=in&languages=te&sort=release_date,desc&count=250&start=251&ref_=adv_nxt\"\n",
    "resp=requests.get(url)"
   ]
  },
  {
   "cell_type": "code",
   "execution_count": 2,
   "id": "1f711596",
   "metadata": {},
   "outputs": [],
   "source": [
    "from bs4 import BeautifulSoup\n",
    "import pandas as pd"
   ]
  },
  {
   "cell_type": "code",
   "execution_count": 3,
   "id": "d68044fa",
   "metadata": {},
   "outputs": [
    {
     "name": "stderr",
     "output_type": "stream",
     "text": [
      "The chromedriver version (115.0.5763.0) detected in PATH at C:\\Users\\Shara\\Downloads\\chromedriver-win64\\chromedriver-win64\\chromedriver.exe might not be compatible with the detected chrome version (116.0.5845.97); currently, chromedriver 116.0.5845.96 is recommended for chrome 116.*, so it is advised to delete the driver in PATH and retry\n"
     ]
    }
   ],
   "source": [
    "import os\n",
    "os.chdir(\"C:\\\\Users\\\\Shara\\\\Downloads\\\\chromedriver-win64\\\\chromedriver-win64\")\n",
    "from selenium import webdriver\n",
    "browser2 = webdriver.Chrome()"
   ]
  },
  {
   "cell_type": "code",
   "execution_count": 4,
   "id": "d62dcdc8",
   "metadata": {},
   "outputs": [],
   "source": [
    "browser2.get(url)"
   ]
  },
  {
   "cell_type": "code",
   "execution_count": 184,
   "id": "0dc8a5d6",
   "metadata": {},
   "outputs": [],
   "source": [
    "raw_html=browser2.page_source"
   ]
  },
  {
   "cell_type": "code",
   "execution_count": 185,
   "id": "cc084c36",
   "metadata": {},
   "outputs": [],
   "source": [
    "parsed_html=BeautifulSoup(raw_html,\"html.parser\")"
   ]
  },
  {
   "cell_type": "code",
   "execution_count": 186,
   "id": "c8ef4bc4",
   "metadata": {},
   "outputs": [],
   "source": [
    "Movie_ratings = pd.DataFrame(columns=(\"MovieName\",\"Rating\",\"Votes\",\"Runtime\",\"Genre\",\"Stars\"))"
   ]
  },
  {
   "cell_type": "code",
   "execution_count": 187,
   "id": "d07f95b2",
   "metadata": {},
   "outputs": [],
   "source": [
    "def get_data(parsed_html):\n",
    "    table = pd.DataFrame()\n",
    "    MovieName = []\n",
    "    Rating=[]\n",
    "    Votes=[]\n",
    "    runtime = []\n",
    "    genre = []\n",
    "    Director = []\n",
    "    stars=[]\n",
    "#     Director=[]\n",
    "#     Cast=[]\n",
    "\n",
    "    for row in parsed_html.find_all(\"div\",class_=\"lister-item-content\"):\n",
    "        MovieName.append(row.find('a').contents[0])\n",
    "        try:\n",
    "            Rating.append(row.find(\"strong\").text)\n",
    "        except:\n",
    "            Rating.append(\"No Data\")\n",
    "        try:\n",
    "            Votes.append(row.find(\"span\",attrs = {'name':'nv'}).text)\n",
    "        except:\n",
    "            Votes.append(\"No Data\")\n",
    "        try:\n",
    "            runtime.append(row.find(\"span\",class_=\"runtime\").text)\n",
    "        except:\n",
    "            runtime.append(\"No Data\")\n",
    "        try:\n",
    "            genre.append(row.find(\"span\",class_=\"genre\").text)\n",
    "        except:\n",
    "            genre.append(\"No Data\")\n",
    "        \n",
    "#         Director.append([s.text for s in row.select('a[href*=\"name\"]')][0])\n",
    "        stars.append([s.text for s in row.select('a[href*=\"name\"]')])\n",
    "\n",
    "        table = pd.DataFrame({\"MovieName\":MovieName,\"Rating\":Rating,\"Votes\":Votes,\"Runtime\":runtime,\"Genre\":genre,\"Stars\":stars})\n",
    "    return table"
   ]
  },
  {
   "cell_type": "code",
   "execution_count": 188,
   "id": "09d96437",
   "metadata": {},
   "outputs": [],
   "source": [
    "movie_data = get_data(parsed_html)"
   ]
  },
  {
   "cell_type": "code",
   "execution_count": 189,
   "id": "2396aed0",
   "metadata": {},
   "outputs": [
    {
     "data": {
      "text/html": [
       "<div>\n",
       "<style scoped>\n",
       "    .dataframe tbody tr th:only-of-type {\n",
       "        vertical-align: middle;\n",
       "    }\n",
       "\n",
       "    .dataframe tbody tr th {\n",
       "        vertical-align: top;\n",
       "    }\n",
       "\n",
       "    .dataframe thead th {\n",
       "        text-align: right;\n",
       "    }\n",
       "</style>\n",
       "<table border=\"1\" class=\"dataframe\">\n",
       "  <thead>\n",
       "    <tr style=\"text-align: right;\">\n",
       "      <th></th>\n",
       "      <th>MovieName</th>\n",
       "      <th>Rating</th>\n",
       "      <th>Votes</th>\n",
       "      <th>Runtime</th>\n",
       "      <th>Genre</th>\n",
       "      <th>Stars</th>\n",
       "    </tr>\n",
       "  </thead>\n",
       "  <tbody>\n",
       "    <tr>\n",
       "      <th>0</th>\n",
       "      <td>Aasramavaasini</td>\n",
       "      <td>No Data</td>\n",
       "      <td>No Data</td>\n",
       "      <td>No Data</td>\n",
       "      <td>\\nDrama, Romance</td>\n",
       "      <td>[Kr Bandi, Lavanya, Yashwanth]</td>\n",
       "    </tr>\n",
       "    <tr>\n",
       "      <th>1</th>\n",
       "      <td>Time Gamer</td>\n",
       "      <td>No Data</td>\n",
       "      <td>No Data</td>\n",
       "      <td>No Data</td>\n",
       "      <td>\\nSci-Fi</td>\n",
       "      <td>[Sanju, Raju, Vishnu Vardhan]</td>\n",
       "    </tr>\n",
       "    <tr>\n",
       "      <th>2</th>\n",
       "      <td>Rechchi Podham Brother</td>\n",
       "      <td>No Data</td>\n",
       "      <td>No Data</td>\n",
       "      <td>No Data</td>\n",
       "      <td>\\nAction, Drama</td>\n",
       "      <td>[A.K Jampanna, Atul Kulkarni, Dipali Sharma, R...</td>\n",
       "    </tr>\n",
       "    <tr>\n",
       "      <th>3</th>\n",
       "      <td>Follow</td>\n",
       "      <td>No Data</td>\n",
       "      <td>No Data</td>\n",
       "      <td>No Data</td>\n",
       "      <td>\\nShort, Musical, Thriller</td>\n",
       "      <td>[Vamsi Krishna Muddu]</td>\n",
       "    </tr>\n",
       "    <tr>\n",
       "      <th>4</th>\n",
       "      <td>Love Lock</td>\n",
       "      <td>No Data</td>\n",
       "      <td>No Data</td>\n",
       "      <td>No Data</td>\n",
       "      <td>\\nThriller</td>\n",
       "      <td>[Shibu Gangadharan, Nuthan Umesh, Jose Adhya, ...</td>\n",
       "    </tr>\n",
       "    <tr>\n",
       "      <th>...</th>\n",
       "      <td>...</td>\n",
       "      <td>...</td>\n",
       "      <td>...</td>\n",
       "      <td>...</td>\n",
       "      <td>...</td>\n",
       "      <td>...</td>\n",
       "    </tr>\n",
       "    <tr>\n",
       "      <th>245</th>\n",
       "      <td>Maaveeran</td>\n",
       "      <td>7.4</td>\n",
       "      <td>4,616</td>\n",
       "      <td>163 min</td>\n",
       "      <td>\\nAction, Drama, Thriller</td>\n",
       "      <td>[Madonne Ashwin, Sivakarthikeyan, Aditi Shanka...</td>\n",
       "    </tr>\n",
       "    <tr>\n",
       "      <th>246</th>\n",
       "      <td>Baby</td>\n",
       "      <td>8.1</td>\n",
       "      <td>6,772</td>\n",
       "      <td>175 min</td>\n",
       "      <td>\\nDrama, Romance</td>\n",
       "      <td>[Sai Rajesh Neelam, Anand Deverakonda, Vaishna...</td>\n",
       "    </tr>\n",
       "    <tr>\n",
       "      <th>247</th>\n",
       "      <td>Maya Bazaar - For Sale</td>\n",
       "      <td>6.9</td>\n",
       "      <td>87</td>\n",
       "      <td>245 min</td>\n",
       "      <td>\\nComedy, Drama, Family</td>\n",
       "      <td>[Navdeep, Eesha Rebba, Jhansi, Meiyang Chang]</td>\n",
       "    </tr>\n",
       "    <tr>\n",
       "      <th>248</th>\n",
       "      <td>Revenge</td>\n",
       "      <td>7.1</td>\n",
       "      <td>1,347</td>\n",
       "      <td>102 min</td>\n",
       "      <td>\\nAction</td>\n",
       "      <td>[Rettadi Shrinivas, Babu Pedapudi, Neha Pandey...</td>\n",
       "    </tr>\n",
       "    <tr>\n",
       "      <th>249</th>\n",
       "      <td>Bharateeyans</td>\n",
       "      <td>7.9</td>\n",
       "      <td>1,005</td>\n",
       "      <td>157 min</td>\n",
       "      <td>\\nAction</td>\n",
       "      <td>[Deena Raj, Shankar Naidu Adusumilli, Sonam Th...</td>\n",
       "    </tr>\n",
       "  </tbody>\n",
       "</table>\n",
       "<p>250 rows × 6 columns</p>\n",
       "</div>"
      ],
      "text/plain": [
       "                  MovieName   Rating    Votes  Runtime  \\\n",
       "0            Aasramavaasini  No Data  No Data  No Data   \n",
       "1                Time Gamer  No Data  No Data  No Data   \n",
       "2    Rechchi Podham Brother  No Data  No Data  No Data   \n",
       "3                    Follow  No Data  No Data  No Data   \n",
       "4                 Love Lock  No Data  No Data  No Data   \n",
       "..                      ...      ...      ...      ...   \n",
       "245               Maaveeran      7.4    4,616  163 min   \n",
       "246                    Baby      8.1    6,772  175 min   \n",
       "247  Maya Bazaar - For Sale      6.9       87  245 min   \n",
       "248                 Revenge      7.1    1,347  102 min   \n",
       "249            Bharateeyans      7.9    1,005  157 min   \n",
       "\n",
       "                                      Genre  \\\n",
       "0              \\nDrama, Romance               \n",
       "1                      \\nSci-Fi               \n",
       "2               \\nAction, Drama               \n",
       "3    \\nShort, Musical, Thriller               \n",
       "4                    \\nThriller               \n",
       "..                                      ...   \n",
       "245   \\nAction, Drama, Thriller               \n",
       "246            \\nDrama, Romance               \n",
       "247     \\nComedy, Drama, Family               \n",
       "248                    \\nAction               \n",
       "249                    \\nAction               \n",
       "\n",
       "                                                 Stars  \n",
       "0                       [Kr Bandi, Lavanya, Yashwanth]  \n",
       "1                        [Sanju, Raju, Vishnu Vardhan]  \n",
       "2    [A.K Jampanna, Atul Kulkarni, Dipali Sharma, R...  \n",
       "3                                [Vamsi Krishna Muddu]  \n",
       "4    [Shibu Gangadharan, Nuthan Umesh, Jose Adhya, ...  \n",
       "..                                                 ...  \n",
       "245  [Madonne Ashwin, Sivakarthikeyan, Aditi Shanka...  \n",
       "246  [Sai Rajesh Neelam, Anand Deverakonda, Vaishna...  \n",
       "247      [Navdeep, Eesha Rebba, Jhansi, Meiyang Chang]  \n",
       "248  [Rettadi Shrinivas, Babu Pedapudi, Neha Pandey...  \n",
       "249  [Deena Raj, Shankar Naidu Adusumilli, Sonam Th...  \n",
       "\n",
       "[250 rows x 6 columns]"
      ]
     },
     "execution_count": 189,
     "metadata": {},
     "output_type": "execute_result"
    }
   ],
   "source": [
    "movie_data"
   ]
  },
  {
   "cell_type": "code",
   "execution_count": 190,
   "id": "48c2ac97",
   "metadata": {},
   "outputs": [
    {
     "name": "stdout",
     "output_type": "stream",
     "text": [
      "<class 'pandas.core.frame.DataFrame'>\n",
      "RangeIndex: 250 entries, 0 to 249\n",
      "Data columns (total 6 columns):\n",
      " #   Column     Non-Null Count  Dtype \n",
      "---  ------     --------------  ----- \n",
      " 0   MovieName  250 non-null    object\n",
      " 1   Rating     250 non-null    object\n",
      " 2   Votes      250 non-null    object\n",
      " 3   Runtime    250 non-null    object\n",
      " 4   Genre      250 non-null    object\n",
      " 5   Stars      250 non-null    object\n",
      "dtypes: object(6)\n",
      "memory usage: 11.8+ KB\n"
     ]
    }
   ],
   "source": [
    "movie_data.info()"
   ]
  },
  {
   "cell_type": "code",
   "execution_count": 191,
   "id": "e6e807d9",
   "metadata": {},
   "outputs": [],
   "source": [
    "import warnings\n",
    "warnings.filterwarnings(\"ignore\")"
   ]
  },
  {
   "cell_type": "code",
   "execution_count": 192,
   "id": "98e7a0d3",
   "metadata": {},
   "outputs": [
    {
     "name": "stderr",
     "output_type": "stream",
     "text": [
      "  0%|                                                                                           | 0/27 [00:00<?, ?it/s]The chromedriver version (115.0.5763.0) detected in PATH at C:\\Users\\Shara\\Downloads\\chromedriver-win64\\chromedriver-win64\\chromedriver.exe might not be compatible with the detected chrome version (115.0.5790.173); currently, chromedriver 115.0.5790.170 is recommended for chrome 115.*, so it is advised to delete the driver in PATH and retry\n",
      "  4%|███                                                                                | 1/27 [00:19<08:20, 19.25s/it]The chromedriver version (115.0.5763.0) detected in PATH at C:\\Users\\Shara\\Downloads\\chromedriver-win64\\chromedriver-win64\\chromedriver.exe might not be compatible with the detected chrome version (115.0.5790.173); currently, chromedriver 115.0.5790.170 is recommended for chrome 115.*, so it is advised to delete the driver in PATH and retry\n",
      "  7%|██████▏                                                                            | 2/27 [00:30<05:59, 14.37s/it]The chromedriver version (115.0.5763.0) detected in PATH at C:\\Users\\Shara\\Downloads\\chromedriver-win64\\chromedriver-win64\\chromedriver.exe might not be compatible with the detected chrome version (115.0.5790.173); currently, chromedriver 115.0.5790.170 is recommended for chrome 115.*, so it is advised to delete the driver in PATH and retry\n",
      " 11%|█████████▏                                                                         | 3/27 [00:48<06:26, 16.12s/it]The chromedriver version (115.0.5763.0) detected in PATH at C:\\Users\\Shara\\Downloads\\chromedriver-win64\\chromedriver-win64\\chromedriver.exe might not be compatible with the detected chrome version (115.0.5790.173); currently, chromedriver 115.0.5790.170 is recommended for chrome 115.*, so it is advised to delete the driver in PATH and retry\n",
      " 15%|████████████▎                                                                      | 4/27 [01:04<06:12, 16.18s/it]The chromedriver version (115.0.5763.0) detected in PATH at C:\\Users\\Shara\\Downloads\\chromedriver-win64\\chromedriver-win64\\chromedriver.exe might not be compatible with the detected chrome version (115.0.5790.173); currently, chromedriver 115.0.5790.170 is recommended for chrome 115.*, so it is advised to delete the driver in PATH and retry\n",
      " 19%|███████████████▎                                                                   | 5/27 [01:21<06:02, 16.48s/it]The chromedriver version (115.0.5763.0) detected in PATH at C:\\Users\\Shara\\Downloads\\chromedriver-win64\\chromedriver-win64\\chromedriver.exe might not be compatible with the detected chrome version (115.0.5790.173); currently, chromedriver 115.0.5790.170 is recommended for chrome 115.*, so it is advised to delete the driver in PATH and retry\n",
      " 22%|██████████████████▍                                                                | 6/27 [01:37<05:44, 16.41s/it]The chromedriver version (115.0.5763.0) detected in PATH at C:\\Users\\Shara\\Downloads\\chromedriver-win64\\chromedriver-win64\\chromedriver.exe might not be compatible with the detected chrome version (115.0.5790.173); currently, chromedriver 115.0.5790.170 is recommended for chrome 115.*, so it is advised to delete the driver in PATH and retry\n",
      " 26%|█████████████████████▌                                                             | 7/27 [01:56<05:44, 17.22s/it]The chromedriver version (115.0.5763.0) detected in PATH at C:\\Users\\Shara\\Downloads\\chromedriver-win64\\chromedriver-win64\\chromedriver.exe might not be compatible with the detected chrome version (115.0.5790.173); currently, chromedriver 115.0.5790.170 is recommended for chrome 115.*, so it is advised to delete the driver in PATH and retry\n",
      " 30%|████████████████████████▌                                                          | 8/27 [02:12<05:16, 16.68s/it]The chromedriver version (115.0.5763.0) detected in PATH at C:\\Users\\Shara\\Downloads\\chromedriver-win64\\chromedriver-win64\\chromedriver.exe might not be compatible with the detected chrome version (115.0.5790.173); currently, chromedriver 115.0.5790.170 is recommended for chrome 115.*, so it is advised to delete the driver in PATH and retry\n",
      " 33%|███████████████████████████▋                                                       | 9/27 [02:29<05:01, 16.77s/it]The chromedriver version (115.0.5763.0) detected in PATH at C:\\Users\\Shara\\Downloads\\chromedriver-win64\\chromedriver-win64\\chromedriver.exe might not be compatible with the detected chrome version (115.0.5790.173); currently, chromedriver 115.0.5790.170 is recommended for chrome 115.*, so it is advised to delete the driver in PATH and retry\n",
      " 37%|██████████████████████████████▎                                                   | 10/27 [02:46<04:47, 16.89s/it]The chromedriver version (115.0.5763.0) detected in PATH at C:\\Users\\Shara\\Downloads\\chromedriver-win64\\chromedriver-win64\\chromedriver.exe might not be compatible with the detected chrome version (115.0.5790.173); currently, chromedriver 115.0.5790.170 is recommended for chrome 115.*, so it is advised to delete the driver in PATH and retry\n",
      " 41%|█████████████████████████████████▍                                                | 11/27 [03:03<04:30, 16.89s/it]The chromedriver version (115.0.5763.0) detected in PATH at C:\\Users\\Shara\\Downloads\\chromedriver-win64\\chromedriver-win64\\chromedriver.exe might not be compatible with the detected chrome version (115.0.5790.173); currently, chromedriver 115.0.5790.170 is recommended for chrome 115.*, so it is advised to delete the driver in PATH and retry\n",
      " 44%|████████████████████████████████████▍                                             | 12/27 [03:21<04:18, 17.24s/it]The chromedriver version (115.0.5763.0) detected in PATH at C:\\Users\\Shara\\Downloads\\chromedriver-win64\\chromedriver-win64\\chromedriver.exe might not be compatible with the detected chrome version (115.0.5790.173); currently, chromedriver 115.0.5790.170 is recommended for chrome 115.*, so it is advised to delete the driver in PATH and retry\n",
      " 48%|███████████████████████████████████████▍                                          | 13/27 [03:37<03:55, 16.81s/it]The chromedriver version (115.0.5763.0) detected in PATH at C:\\Users\\Shara\\Downloads\\chromedriver-win64\\chromedriver-win64\\chromedriver.exe might not be compatible with the detected chrome version (115.0.5790.173); currently, chromedriver 115.0.5790.170 is recommended for chrome 115.*, so it is advised to delete the driver in PATH and retry\n",
      " 52%|██████████████████████████████████████████▌                                       | 14/27 [03:55<03:42, 17.10s/it]The chromedriver version (115.0.5763.0) detected in PATH at C:\\Users\\Shara\\Downloads\\chromedriver-win64\\chromedriver-win64\\chromedriver.exe might not be compatible with the detected chrome version (115.0.5790.173); currently, chromedriver 115.0.5790.170 is recommended for chrome 115.*, so it is advised to delete the driver in PATH and retry\n",
      " 56%|█████████████████████████████████████████████▌                                    | 15/27 [04:14<03:31, 17.67s/it]The chromedriver version (115.0.5763.0) detected in PATH at C:\\Users\\Shara\\Downloads\\chromedriver-win64\\chromedriver-win64\\chromedriver.exe might not be compatible with the detected chrome version (115.0.5790.173); currently, chromedriver 115.0.5790.170 is recommended for chrome 115.*, so it is advised to delete the driver in PATH and retry\n",
      " 59%|████████████████████████████████████████████████▌                                 | 16/27 [04:34<03:24, 18.60s/it]The chromedriver version (115.0.5763.0) detected in PATH at C:\\Users\\Shara\\Downloads\\chromedriver-win64\\chromedriver-win64\\chromedriver.exe might not be compatible with the detected chrome version (115.0.5790.173); currently, chromedriver 115.0.5790.170 is recommended for chrome 115.*, so it is advised to delete the driver in PATH and retry\n",
      " 63%|███████████████████████████████████████████████████▋                              | 17/27 [04:53<03:06, 18.60s/it]The chromedriver version (115.0.5763.0) detected in PATH at C:\\Users\\Shara\\Downloads\\chromedriver-win64\\chromedriver-win64\\chromedriver.exe might not be compatible with the detected chrome version (115.0.5790.173); currently, chromedriver 115.0.5790.170 is recommended for chrome 115.*, so it is advised to delete the driver in PATH and retry\n",
      " 67%|██████████████████████████████████████████████████████▋                           | 18/27 [05:12<02:49, 18.80s/it]The chromedriver version (115.0.5763.0) detected in PATH at C:\\Users\\Shara\\Downloads\\chromedriver-win64\\chromedriver-win64\\chromedriver.exe might not be compatible with the detected chrome version (115.0.5790.173); currently, chromedriver 115.0.5790.170 is recommended for chrome 115.*, so it is advised to delete the driver in PATH and retry\n",
      " 70%|█████████████████████████████████████████████████████████▋                        | 19/27 [05:33<02:35, 19.40s/it]The chromedriver version (115.0.5763.0) detected in PATH at C:\\Users\\Shara\\Downloads\\chromedriver-win64\\chromedriver-win64\\chromedriver.exe might not be compatible with the detected chrome version (115.0.5790.173); currently, chromedriver 115.0.5790.170 is recommended for chrome 115.*, so it is advised to delete the driver in PATH and retry\n",
      " 74%|████████████████████████████████████████████████████████████▋                     | 20/27 [05:53<02:17, 19.59s/it]The chromedriver version (115.0.5763.0) detected in PATH at C:\\Users\\Shara\\Downloads\\chromedriver-win64\\chromedriver-win64\\chromedriver.exe might not be compatible with the detected chrome version (115.0.5790.173); currently, chromedriver 115.0.5790.170 is recommended for chrome 115.*, so it is advised to delete the driver in PATH and retry\n",
      " 78%|███████████████████████████████████████████████████████████████▊                  | 21/27 [06:14<02:00, 20.06s/it]The chromedriver version (115.0.5763.0) detected in PATH at C:\\Users\\Shara\\Downloads\\chromedriver-win64\\chromedriver-win64\\chromedriver.exe might not be compatible with the detected chrome version (115.0.5790.173); currently, chromedriver 115.0.5790.170 is recommended for chrome 115.*, so it is advised to delete the driver in PATH and retry\n",
      " 81%|██████████████████████████████████████████████████████████████████▊               | 22/27 [06:35<01:40, 20.19s/it]The chromedriver version (115.0.5763.0) detected in PATH at C:\\Users\\Shara\\Downloads\\chromedriver-win64\\chromedriver-win64\\chromedriver.exe might not be compatible with the detected chrome version (115.0.5790.173); currently, chromedriver 115.0.5790.170 is recommended for chrome 115.*, so it is advised to delete the driver in PATH and retry\n",
      " 85%|█████████████████████████████████████████████████████████████████████▊            | 23/27 [06:54<01:20, 20.03s/it]The chromedriver version (115.0.5763.0) detected in PATH at C:\\Users\\Shara\\Downloads\\chromedriver-win64\\chromedriver-win64\\chromedriver.exe might not be compatible with the detected chrome version (115.0.5790.173); currently, chromedriver 115.0.5790.170 is recommended for chrome 115.*, so it is advised to delete the driver in PATH and retry\n",
      " 89%|████████████████████████████████████████████████████████████████████████▉         | 24/27 [07:14<01:00, 20.08s/it]The chromedriver version (115.0.5763.0) detected in PATH at C:\\Users\\Shara\\Downloads\\chromedriver-win64\\chromedriver-win64\\chromedriver.exe might not be compatible with the detected chrome version (115.0.5790.173); currently, chromedriver 115.0.5790.170 is recommended for chrome 115.*, so it is advised to delete the driver in PATH and retry\n",
      " 93%|███████████████████████████████████████████████████████████████████████████▉      | 25/27 [07:34<00:39, 19.92s/it]The chromedriver version (115.0.5763.0) detected in PATH at C:\\Users\\Shara\\Downloads\\chromedriver-win64\\chromedriver-win64\\chromedriver.exe might not be compatible with the detected chrome version (115.0.5790.173); currently, chromedriver 115.0.5790.170 is recommended for chrome 115.*, so it is advised to delete the driver in PATH and retry\n",
      " 96%|██████████████████████████████████████████████████████████████████████████████▉   | 26/27 [07:56<00:20, 20.48s/it]The chromedriver version (115.0.5763.0) detected in PATH at C:\\Users\\Shara\\Downloads\\chromedriver-win64\\chromedriver-win64\\chromedriver.exe might not be compatible with the detected chrome version (115.0.5790.173); currently, chromedriver 115.0.5790.170 is recommended for chrome 115.*, so it is advised to delete the driver in PATH and retry\n",
      "100%|██████████████████████████████████████████████████████████████████████████████████| 27/27 [08:16<00:00, 18.40s/it]\n"
     ]
    }
   ],
   "source": [
    "movies_data = pd.DataFrame(columns=(\"MovieName\",\"Rating\",\"Votes\",\"Runtime\",\"Genre\",\"Stars\"))\n",
    "import time\n",
    "from tqdm import tqdm\n",
    "base_url = \"https://www.imdb.com/search/title/?colors=color&countries=in&languages=te&sort=release_date,desc&count=250&start={}&ref_=adv_nxt\"\n",
    "for page_num in tqdm(range(0,6600,250)):\n",
    "    url=base_url.format(page_num)\n",
    "    browser1 = webdriver.Chrome()\n",
    "    browser1.get(url)\n",
    "    time.sleep(1)\n",
    "    raw_data=browser1.page_source\n",
    "    browser1.close()\n",
    "    html=BeautifulSoup(raw_data,\"html.parser\")\n",
    "    movies_data = movies_data.append(get_data(html),ignore_index = True)"
   ]
  },
  {
   "cell_type": "code",
   "execution_count": 12,
   "id": "a935cd7e",
   "metadata": {},
   "outputs": [
    {
     "name": "stdout",
     "output_type": "stream",
     "text": [
      "Collecting IMDbPYNote: you may need to restart the kernel to use updated packages.\n",
      "\n",
      "  Downloading IMDbPY-2022.7.9-py3-none-any.whl (1.2 kB)\n",
      "Collecting cinemagoer\n",
      "  Downloading cinemagoer-2023.5.1-py3-none-any.whl (297 kB)\n",
      "     -------------------------------------- 297.2/297.2 kB 6.1 MB/s eta 0:00:00\n",
      "Requirement already satisfied: SQLAlchemy in c:\\users\\shara\\anaconda3\\lib\\site-packages (from cinemagoer->IMDbPY) (1.4.39)\n",
      "Requirement already satisfied: lxml in c:\\users\\shara\\anaconda3\\lib\\site-packages (from cinemagoer->IMDbPY) (4.9.1)\n",
      "Requirement already satisfied: greenlet!=0.4.17 in c:\\users\\shara\\anaconda3\\lib\\site-packages (from SQLAlchemy->cinemagoer->IMDbPY) (2.0.1)\n",
      "Installing collected packages: cinemagoer, IMDbPY\n",
      "Successfully installed IMDbPY-2022.7.9 cinemagoer-2023.5.1\n"
     ]
    }
   ],
   "source": [
    "pip install IMDbPY"
   ]
  },
  {
   "cell_type": "code",
   "execution_count": 193,
   "id": "9c3d3f01",
   "metadata": {},
   "outputs": [
    {
     "data": {
      "text/plain": [
       "(6749, 6)"
      ]
     },
     "execution_count": 193,
     "metadata": {},
     "output_type": "execute_result"
    }
   ],
   "source": [
    "movies_data.shape"
   ]
  },
  {
   "cell_type": "code",
   "execution_count": 194,
   "id": "a2cee240",
   "metadata": {},
   "outputs": [
    {
     "data": {
      "text/html": [
       "<div>\n",
       "<style scoped>\n",
       "    .dataframe tbody tr th:only-of-type {\n",
       "        vertical-align: middle;\n",
       "    }\n",
       "\n",
       "    .dataframe tbody tr th {\n",
       "        vertical-align: top;\n",
       "    }\n",
       "\n",
       "    .dataframe thead th {\n",
       "        text-align: right;\n",
       "    }\n",
       "</style>\n",
       "<table border=\"1\" class=\"dataframe\">\n",
       "  <thead>\n",
       "    <tr style=\"text-align: right;\">\n",
       "      <th></th>\n",
       "      <th>MovieName</th>\n",
       "      <th>Rating</th>\n",
       "      <th>Votes</th>\n",
       "      <th>Runtime</th>\n",
       "      <th>Genre</th>\n",
       "      <th>Stars</th>\n",
       "    </tr>\n",
       "  </thead>\n",
       "  <tbody>\n",
       "    <tr>\n",
       "      <th>0</th>\n",
       "      <td>Goodachari 2</td>\n",
       "      <td>No Data</td>\n",
       "      <td>No Data</td>\n",
       "      <td>No Data</td>\n",
       "      <td>\\nAction</td>\n",
       "      <td>[Vinay Kumar Sirigineedi, Sobhita Dhulipala, A...</td>\n",
       "    </tr>\n",
       "    <tr>\n",
       "      <th>1</th>\n",
       "      <td>Raja Deluxe</td>\n",
       "      <td>No Data</td>\n",
       "      <td>No Data</td>\n",
       "      <td>No Data</td>\n",
       "      <td>\\nComedy, Horror</td>\n",
       "      <td>[Maruthi Dasari, Prabhas, Sanjay Dutt, Malavik...</td>\n",
       "    </tr>\n",
       "    <tr>\n",
       "      <th>2</th>\n",
       "      <td>Kathanar - The Wild Sorcerer</td>\n",
       "      <td>No Data</td>\n",
       "      <td>No Data</td>\n",
       "      <td>No Data</td>\n",
       "      <td>\\nAction, Adventure, Drama</td>\n",
       "      <td>[Rojin Thomas, Anushka Shetty, Jayasurya, Kulp...</td>\n",
       "    </tr>\n",
       "    <tr>\n",
       "      <th>3</th>\n",
       "      <td>Icon</td>\n",
       "      <td>No Data</td>\n",
       "      <td>No Data</td>\n",
       "      <td>No Data</td>\n",
       "      <td>\\nAction</td>\n",
       "      <td>[Venu Sriram, Pooja Hegde, Allu Arjun, Krithi ...</td>\n",
       "    </tr>\n",
       "    <tr>\n",
       "      <th>4</th>\n",
       "      <td>Baahubali: Before the Beginning</td>\n",
       "      <td>No Data</td>\n",
       "      <td>No Data</td>\n",
       "      <td>No Data</td>\n",
       "      <td>\\nAction, Adventure, Drama</td>\n",
       "      <td>[Snigdha Akolkar, Mrunal Thakur, Bijay Anand, ...</td>\n",
       "    </tr>\n",
       "  </tbody>\n",
       "</table>\n",
       "</div>"
      ],
      "text/plain": [
       "                         MovieName   Rating    Votes  Runtime  \\\n",
       "0                     Goodachari 2  No Data  No Data  No Data   \n",
       "1                      Raja Deluxe  No Data  No Data  No Data   \n",
       "2     Kathanar - The Wild Sorcerer  No Data  No Data  No Data   \n",
       "3                             Icon  No Data  No Data  No Data   \n",
       "4  Baahubali: Before the Beginning  No Data  No Data  No Data   \n",
       "\n",
       "                                    Genre  \\\n",
       "0                    \\nAction               \n",
       "1            \\nComedy, Horror               \n",
       "2  \\nAction, Adventure, Drama               \n",
       "3                    \\nAction               \n",
       "4  \\nAction, Adventure, Drama               \n",
       "\n",
       "                                               Stars  \n",
       "0  [Vinay Kumar Sirigineedi, Sobhita Dhulipala, A...  \n",
       "1  [Maruthi Dasari, Prabhas, Sanjay Dutt, Malavik...  \n",
       "2  [Rojin Thomas, Anushka Shetty, Jayasurya, Kulp...  \n",
       "3  [Venu Sriram, Pooja Hegde, Allu Arjun, Krithi ...  \n",
       "4  [Snigdha Akolkar, Mrunal Thakur, Bijay Anand, ...  "
      ]
     },
     "execution_count": 194,
     "metadata": {},
     "output_type": "execute_result"
    }
   ],
   "source": [
    "movies_data.head()"
   ]
  },
  {
   "cell_type": "code",
   "execution_count": 196,
   "id": "9a535e15",
   "metadata": {},
   "outputs": [],
   "source": [
    "movies_data.to_csv(\"C:\\\\Users\\\\Shara\\\\Downloads\\\\movies_data.csv\")"
   ]
  },
  {
   "cell_type": "code",
   "execution_count": 171,
   "id": "c0f360b3",
   "metadata": {},
   "outputs": [],
   "source": [
    "movies_data['Rating']=movies_data['Rating'].str.replace('[','').replace(']','')"
   ]
  },
  {
   "cell_type": "code",
   "execution_count": 172,
   "id": "72b3247f",
   "metadata": {},
   "outputs": [],
   "source": [
    "movies_data['Genre']=movies_data['Genre'].str.replace('[','').replace(']','')"
   ]
  },
  {
   "cell_type": "code",
   "execution_count": 13,
   "id": "3b20e54c",
   "metadata": {},
   "outputs": [],
   "source": [
    "import imdb"
   ]
  },
  {
   "cell_type": "code",
   "execution_count": 14,
   "id": "5894926e",
   "metadata": {},
   "outputs": [],
   "source": [
    "i1 = imdb.IMDb()"
   ]
  },
  {
   "cell_type": "code",
   "execution_count": 52,
   "id": "89d2a298",
   "metadata": {},
   "outputs": [],
   "source": [
    "movies = i1.search_movie('Baby')"
   ]
  },
  {
   "cell_type": "code",
   "execution_count": 35,
   "id": "c569a9d9",
   "metadata": {},
   "outputs": [
    {
     "data": {
      "text/plain": [
       "[<Movie id:3890160[http] title:_Baby Driver (2017)_>,\n",
       " <Movie id:16118524[http] title:_Baby (2023)_>,\n",
       " <Movie id:7645192[http] title:_\"Baby\" (2020) (2018)_>,\n",
       " <Movie id:10640346[http] title:_Babylon (2022)_>,\n",
       " <Movie id:0078111[http] title:_Pretty Baby (1978)_>,\n",
       " <Movie id:0063522[http] title:_Rosemary's Baby (1968)_>,\n",
       " <Movie id:11317142[http] title:_Shiva Baby (2020)_>,\n",
       " <Movie id:2177489[http] title:_\"Baby Daddy\" (2017) (2012)_>,\n",
       " <Movie id:27756860[http] title:_Baby Cat (2023)_>,\n",
       " <Movie id:0255819[http] title:_Baby Boy (2001)_>,\n",
       " <Movie id:0452623[http] title:_Gone Baby Gone (2007)_>,\n",
       " <Movie id:3874544[http] title:_The Boss Baby (2017)_>,\n",
       " <Movie id:0405159[http] title:_Million Dollar Baby (2004)_>,\n",
       " <Movie id:0099329[http] title:_Cry-Baby (1990)_>,\n",
       " <Movie id:0069754[http] title:_The Baby (1973)_>,\n",
       " <Movie id:3848892[http] title:_Baby (2015)_>,\n",
       " <Movie id:0118665[http] title:_Baby Geniuses (1999)_>,\n",
       " <Movie id:0439572[http] title:_The Flash (2023)_>,\n",
       " <Movie id:0092605[http] title:_Baby Boom (1987)_>,\n",
       " <Movie id:21448540[http] title:_Baby Ruby (2022)_>]"
      ]
     },
     "execution_count": 35,
     "metadata": {},
     "output_type": "execute_result"
    }
   ],
   "source": [
    "movies"
   ]
  },
  {
   "cell_type": "code",
   "execution_count": 19,
   "id": "610bc186",
   "metadata": {},
   "outputs": [
    {
     "data": {
      "text/plain": [
       "6.8"
      ]
     },
     "execution_count": 19,
     "metadata": {},
     "output_type": "execute_result"
    }
   ],
   "source": [
    "i1.get_movie('7645192').data['rating']"
   ]
  },
  {
   "cell_type": "code",
   "execution_count": 36,
   "id": "d1c005c9",
   "metadata": {},
   "outputs": [],
   "source": [
    "movies1 = i1.search_movie('Hidimba')"
   ]
  },
  {
   "cell_type": "code",
   "execution_count": 38,
   "id": "7968e7d4",
   "metadata": {},
   "outputs": [
    {
     "data": {
      "text/plain": [
       "7.8"
      ]
     },
     "execution_count": 38,
     "metadata": {},
     "output_type": "execute_result"
    }
   ],
   "source": [
    "i1.get_movie('27867635').data['rating']"
   ]
  },
  {
   "cell_type": "code",
   "execution_count": 53,
   "id": "96ee7507",
   "metadata": {},
   "outputs": [
    {
     "name": "stdout",
     "output_type": "stream",
     "text": [
      "Baby : 16118524 : 8.1\n"
     ]
    }
   ],
   "source": [
    "search = 'Baby'\n",
    "rel_year = 2023\n",
    "for i in range(len(movies)):\n",
    "    if movies[i]['title'] == search:\n",
    "        id = movies[i].movieID\n",
    "        if i1.get_movie(id)['year'] == rel_year:\n",
    "            print(movies[i]['title'] + \" : \" + id + \" : \" + str(i1.get_movie(id).data['rating']))"
   ]
  },
  {
   "cell_type": "code",
   "execution_count": null,
   "id": "25722564",
   "metadata": {},
   "outputs": [],
   "source": []
  }
 ],
 "metadata": {
  "kernelspec": {
   "display_name": "Python 3 (ipykernel)",
   "language": "python",
   "name": "python3"
  },
  "language_info": {
   "codemirror_mode": {
    "name": "ipython",
    "version": 3
   },
   "file_extension": ".py",
   "mimetype": "text/x-python",
   "name": "python",
   "nbconvert_exporter": "python",
   "pygments_lexer": "ipython3",
   "version": "3.10.9"
  }
 },
 "nbformat": 4,
 "nbformat_minor": 5
}
