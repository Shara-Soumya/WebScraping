{
 "cells": [
  {
   "cell_type": "code",
   "execution_count": 1,
   "id": "e50b9142",
   "metadata": {},
   "outputs": [],
   "source": [
    "import requests\n",
    "url = \"https://research.aimultiple.com/generative-ai-tools/\"\n",
    "resp=requests.get(url)"
   ]
  },
  {
   "cell_type": "code",
   "execution_count": 2,
   "id": "239357a6",
   "metadata": {},
   "outputs": [],
   "source": [
    "from bs4 import BeautifulSoup\n",
    "import pandas as pd"
   ]
  },
  {
   "cell_type": "code",
   "execution_count": 3,
   "id": "475d6cbb",
   "metadata": {},
   "outputs": [
    {
     "name": "stderr",
     "output_type": "stream",
     "text": [
      "The chromedriver version (115.0.5763.0) detected in PATH at C:\\Users\\Shara\\Downloads\\chromedriver-win64\\chromedriver-win64\\chromedriver.exe might not be compatible with the detected chrome version (115.0.5790.173); currently, chromedriver 115.0.5790.170 is recommended for chrome 115.*, so it is advised to delete the driver in PATH and retry\n"
     ]
    }
   ],
   "source": [
    "import os\n",
    "os.chdir(\"C:\\\\Users\\\\Shara\\\\Downloads\\\\chromedriver-win64\\\\chromedriver-win64\")\n",
    "from selenium import webdriver\n",
    "browser2 = webdriver.Chrome()"
   ]
  },
  {
   "cell_type": "code",
   "execution_count": 4,
   "id": "5dc90431",
   "metadata": {},
   "outputs": [],
   "source": [
    "browser2.get(url)"
   ]
  },
  {
   "cell_type": "code",
   "execution_count": 5,
   "id": "eb7f2250",
   "metadata": {},
   "outputs": [],
   "source": [
    "raw_html=browser2.page_source"
   ]
  },
  {
   "cell_type": "code",
   "execution_count": 6,
   "id": "17aa0639",
   "metadata": {},
   "outputs": [],
   "source": [
    "parsed_html=BeautifulSoup(raw_html,\"html.parser\")"
   ]
  },
  {
   "cell_type": "code",
   "execution_count": 20,
   "id": "550dc991",
   "metadata": {},
   "outputs": [],
   "source": [
    "table = parsed_html.find_all('table', attrs={'class':'stripe dataTable no-footer'})\n",
    "res = []\n",
    "for t in table:\n",
    "    table_rows = t.find_all('tr')\n",
    "\n",
    "    for tr in table_rows:\n",
    "        td = tr.find_all('td')\n",
    "        row = [tr.text.strip() for tr in td if tr.text.strip()]\n",
    "        if row:\n",
    "            res.append(row)\n",
    "\n",
    "\n",
    "df = pd.DataFrame(res, columns=[\"Tools\", \"Pricing\", \"Free version\", \"Features\"])"
   ]
  },
  {
   "cell_type": "code",
   "execution_count": 21,
   "id": "92eef042",
   "metadata": {},
   "outputs": [
    {
     "data": {
      "text/html": [
       "<div>\n",
       "<style scoped>\n",
       "    .dataframe tbody tr th:only-of-type {\n",
       "        vertical-align: middle;\n",
       "    }\n",
       "\n",
       "    .dataframe tbody tr th {\n",
       "        vertical-align: top;\n",
       "    }\n",
       "\n",
       "    .dataframe thead th {\n",
       "        text-align: right;\n",
       "    }\n",
       "</style>\n",
       "<table border=\"1\" class=\"dataframe\">\n",
       "  <thead>\n",
       "    <tr style=\"text-align: right;\">\n",
       "      <th></th>\n",
       "      <th>Tools</th>\n",
       "      <th>Pricing</th>\n",
       "      <th>Free version</th>\n",
       "      <th>Features</th>\n",
       "    </tr>\n",
       "  </thead>\n",
       "  <tbody>\n",
       "    <tr>\n",
       "      <th>0</th>\n",
       "      <td>DALL-E</td>\n",
       "      <td>$15</td>\n",
       "      <td>Yes (Limited use)</td>\n",
       "      <td>Creates, edits, or variates images, and offers...</td>\n",
       "    </tr>\n",
       "    <tr>\n",
       "      <th>1</th>\n",
       "      <td>starryai</td>\n",
       "      <td>Free</td>\n",
       "      <td>Yes</td>\n",
       "      <td>Enables the creation of artwork with different...</td>\n",
       "    </tr>\n",
       "    <tr>\n",
       "      <th>2</th>\n",
       "      <td>Craiyon</td>\n",
       "      <td>Free</td>\n",
       "      <td>Yes</td>\n",
       "      <td>Converts text-to-image; not suitable for the c...</td>\n",
       "    </tr>\n",
       "    <tr>\n",
       "      <th>3</th>\n",
       "      <td>NightCafe</td>\n",
       "      <td>$9.99 per month for ‘AI Hobbyist’ package</td>\n",
       "      <td>Yes (Limited credits)</td>\n",
       "      <td>Art generation with different styles and resol...</td>\n",
       "    </tr>\n",
       "    <tr>\n",
       "      <th>4</th>\n",
       "      <td>Artbreeder</td>\n",
       "      <td>$8.99 per month for ‘Starter’ package</td>\n",
       "      <td>Yes (Limited image uploads and high-resolution...</td>\n",
       "      <td>Creates collages, and generates images with th...</td>\n",
       "    </tr>\n",
       "  </tbody>\n",
       "</table>\n",
       "</div>"
      ],
      "text/plain": [
       "        Tools                                    Pricing  \\\n",
       "0      DALL-E                                        $15   \n",
       "1    starryai                                       Free   \n",
       "2     Craiyon                                       Free   \n",
       "3   NightCafe  $9.99 per month for ‘AI Hobbyist’ package   \n",
       "4  Artbreeder      $8.99 per month for ‘Starter’ package   \n",
       "\n",
       "                                        Free version  \\\n",
       "0                                  Yes (Limited use)   \n",
       "1                                                Yes   \n",
       "2                                                Yes   \n",
       "3                              Yes (Limited credits)   \n",
       "4  Yes (Limited image uploads and high-resolution...   \n",
       "\n",
       "                                            Features  \n",
       "0  Creates, edits, or variates images, and offers...  \n",
       "1  Enables the creation of artwork with different...  \n",
       "2  Converts text-to-image; not suitable for the c...  \n",
       "3  Art generation with different styles and resol...  \n",
       "4  Creates collages, and generates images with th...  "
      ]
     },
     "execution_count": 21,
     "metadata": {},
     "output_type": "execute_result"
    }
   ],
   "source": [
    "df.head()"
   ]
  },
  {
   "cell_type": "code",
   "execution_count": 22,
   "id": "c7fe0e01",
   "metadata": {},
   "outputs": [
    {
     "data": {
      "text/plain": [
       "(35, 4)"
      ]
     },
     "execution_count": 22,
     "metadata": {},
     "output_type": "execute_result"
    }
   ],
   "source": [
    "df.shape"
   ]
  },
  {
   "cell_type": "code",
   "execution_count": 23,
   "id": "9b8e1392",
   "metadata": {},
   "outputs": [],
   "source": [
    "df.to_csv(\"C:\\\\Users\\\\Shara\\\\Downloads\\\\aitools.csv\")"
   ]
  },
  {
   "cell_type": "code",
   "execution_count": null,
   "id": "6b74ddc6",
   "metadata": {},
   "outputs": [],
   "source": []
  }
 ],
 "metadata": {
  "kernelspec": {
   "display_name": "Python 3 (ipykernel)",
   "language": "python",
   "name": "python3"
  },
  "language_info": {
   "codemirror_mode": {
    "name": "ipython",
    "version": 3
   },
   "file_extension": ".py",
   "mimetype": "text/x-python",
   "name": "python",
   "nbconvert_exporter": "python",
   "pygments_lexer": "ipython3",
   "version": "3.10.9"
  }
 },
 "nbformat": 4,
 "nbformat_minor": 5
}
